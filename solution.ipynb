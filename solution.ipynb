{
 "cells": [
  {
   "cell_type": "markdown",
   "id": "870c2b7a",
   "metadata": {
    "cell_marker": "\"\"\""
   },
   "source": [
    "# Exercise 1: Introduction to Deep Learning\n",
    "<div>\n",
    "    <table>\n",
    "        <tr style=\"background-color:white\">\n",
    "            <td><img src=\"attachment:perceptron.png\" width=\"100%\"/></td>\n",
    "            <td><img src=\"attachment:mlp.png\" width=\"100%\"/></td>\n",
    "            <td><img src=\"attachment:neural_network.png\" width=\"100%\"/></td>\n",
    "        </tr>\n",
    "    </table>\n",
    "</div>\n",
    "\n",
    "In the following exercise we explore the basic building blocks of deep learning: the perceptron and how to stack multiple perceptrons together into layers to build a neural network.\n",
    "\n",
    "<div class=\"alert alert-block alert-danger\">\n",
    "    Set your python kernel to <code>02_intro_dl</code>\n",
    "</div>\n",
    "\n",
    "### Acknowledgements\n",
    "\n",
    "This notebook was created by Albert Dominguez Mantes, Nils Eckstein, Julia Buhmann, and Jan Funke."
   ]
  },
  {
   "cell_type": "code",
   "execution_count": null,
   "id": "73e63ff5",
   "metadata": {},
   "outputs": [],
   "source": [
    "import matplotlib.pyplot as plt\n",
    "import numpy as np\n",
    "\n",
    "plt.rcParams[\"figure.figsize\"] = (5, 5)"
   ]
  },
  {
   "cell_type": "markdown",
   "id": "5c9d888b",
   "metadata": {
    "cell_marker": "\"\"\""
   },
   "source": [
    "## Part 1: Perceptrons\n",
    "\n",
    "<div>\n",
    "    <img src=\"attachment:perceptron.png\" width=\"600\"/>\n",
    "</div>\n",
    "\n",
    "As we saw in the lecture [\"Introduction to Deep Learning\"](intro_dl_lecture.pdf), a perceptron is a simple unit that combines its inputs $x_i$ in a linear fashion (using weights $w_i$ and a bias $b$), followed by a non-linear function $f$.\n",
    "\n",
    "<div class=\"alert alert-block alert-info\">\n",
    "    <b>Task 1</b>: Implement a Perceptron Function\n",
    "</div>\n",
    "\n",
    "Using only `numpy`, write a function `perceptron(x, w, b, f)` that returns `y` as computed by a perceptron, for arbitrary inputs `x` of dimension `n`. The arguments of your function should be:\n",
    "\n",
    "* `x`: the input of the perceptron, a `numpy` array of shape `(n,)`\n",
    "* `w`: the weights of the perceptron, a `numpy` array of shape `(n,)`\n",
    "* `b`: a single scalar value for the bias\n",
    "* `f`: a nonlinear function $f: \\mathbb{R}\\mapsto\\mathbb{R}$\n",
    "\n",
    "Test your perceptron function on 2D inputs (i.e., `n=2`) and plot the result. Change the weights, bias, and the function $f$ and see how the output of the perceptron changes."
   ]
  },
  {
   "cell_type": "code",
   "execution_count": null,
   "id": "3244fd83",
   "metadata": {
    "tags": [
     "solution"
    ]
   },
   "outputs": [],
   "source": [
    "def non_linearity(a):\n",
    "    return a > 0"
   ]
  },
  {
   "cell_type": "code",
   "execution_count": null,
   "id": "b32035c0",
   "metadata": {
    "tags": [
     "solution"
    ]
   },
   "outputs": [],
   "source": [
    "def perceptron(x, w, b, f):\n",
    "    return f(np.sum(x * w) + b)"
   ]
  },
  {
   "cell_type": "code",
   "execution_count": null,
   "id": "1ef0d937",
   "metadata": {
    "lines_to_next_cell": 2
   },
   "outputs": [],
   "source": [
    "def plot_perceptron(w, b, f):\n",
    "\n",
    "    num_samples = 100\n",
    "    domain_x1 = (0.0, 1.0)\n",
    "    domain_x2 = (0.0, 1.0)\n",
    "\n",
    "    domain = np.meshgrid(\n",
    "        np.linspace(*domain_x1, num_samples), np.linspace(*domain_x2, num_samples)\n",
    "    )\n",
    "    xs = np.array([domain[0].flatten(), domain[1].flatten()]).T\n",
    "\n",
    "    values = np.array([perceptron(x, w, b, f) for x in xs])\n",
    "\n",
    "    plt.contourf(domain[0], domain[1], values.reshape(num_samples, num_samples))\n",
    "\n",
    "\n",
    "# the following should show a linear classifier that is True (shown as green)\n",
    "# for values below a line starting at (0.1, 0) through (1.0, 0.9)\n",
    "plot_perceptron(w=[1.0, -1.0], b=-0.1, f=non_linearity)"
   ]
  },
  {
   "cell_type": "markdown",
   "id": "239a0472",
   "metadata": {
    "cell_marker": "\"\"\""
   },
   "source": [
    "<div class=\"alert alert-block alert-success\">\n",
    "<h2> Checkpoint 1 </h2>\n",
    "\n",
    "We will go over different ways to implement the perceptron together and discuss their efficiency. If you arrived here earlier, feel free to play around with the parameters of the perceptron (the weights and bias) as well as the activation function `f`.\n",
    "\n",
    "Time: 20 working, + 10 discussion\n",
    "</div>"
   ]
  },
  {
   "cell_type": "markdown",
   "id": "5e65e7d5",
   "metadata": {
    "cell_marker": "\"\"\""
   },
   "source": [
    "<div class=\"alert alert-block alert-info\">\n",
    "    <h2>Task 2</h2>\n",
    "    \n",
    "Create a 2-Layer Network for XOR\n",
    "</div>\n",
    "\n",
    "XOR is a fundamental logic gate that outputs `1` whenever there is an odd number of `1` in its input and `0` otherwise. For two inputs this can be thought of as an \"exclusive or\" operation and the associated boolean function is fully characterized by the following truth table.\n",
    "\n",
    "| x1 | x2 | y = XOR(x1, x2) |\n",
    "|---|---|----------|\n",
    "| 0 | 0 |    0     |\n",
    "| 0 | 1 |    1     |\n",
    "| 1 | 0 |    1     |\n",
    "| 1 | 1 |    0     |\n",
    "\n",
    "The function of an XOR gate can also be understood as a classification problem on $x \\in \\{0,1\\}^2$ and we can think about designing a classifier acting as an XOR gate. It turns out that this problem is not solvable by a single perceptron (https://en.wikipedia.org/wiki/Perceptron) because the set of points $\\{(0,0), (0,1), (1,0), (1,1)\\}$ is not linearly separable.\n",
    "\n",
    "![mlp.png](attachment:mlp.png)\n",
    "\n",
    "Design a two layer perceptron using your `perceptron` function above that implements an XOR Gate on two inputs. Think about the flow of information through this simple network and set the weight values by hand such that the network produces the XOR function.\n",
    "\n",
    "#### Hint\n",
    "\n",
    "A single layer in a multilayer perceptron can be described by the equation $y = f(x^\\intercal w + b)$ with $f$ a nonlinear function. $b$ is the so called bias (a constant offset vector) and $w$ a vector of weights. Since we are only interested in outputs of `0` or `1`, a good choice for $f$ is the threshold function. Think about which kind of logical operations you can implement with a single perceptron, then see how you can combine them to create an XOR. It might help to write down the equation for a two layer perceptron network."
   ]
  },
  {
   "cell_type": "code",
   "execution_count": null,
   "id": "4f007dbf",
   "metadata": {},
   "outputs": [],
   "source": [
    "def generate_xor_data():\n",
    "    xs = [np.array([i, j]) for i in [0, 1] for j in [0, 1]]\n",
    "    ys = [int(np.logical_xor(x[0], x[1])) for x in xs]\n",
    "    return xs, ys"
   ]
  },
  {
   "cell_type": "code",
   "execution_count": null,
   "id": "86bb9e80",
   "metadata": {
    "tags": [
     "solution"
    ]
   },
   "outputs": [],
   "source": [
    "def xor(x):\n",
    "    \"\"\"Solution\"\"\"\n",
    "    w11 = [0.1, 0.1]\n",
    "    b11 = -0.05\n",
    "    w12 = [0.1, 0.1]\n",
    "    b12 = -0.15\n",
    "    w2 = [0.1, -0.1]\n",
    "    b2 = -0.05\n",
    "    f = lambda a: a > 0\n",
    "\n",
    "    # output of the two perceptrons in the first layer\n",
    "    h1 = perceptron(x, w=w11, b=b11, f=f)\n",
    "    h2 = perceptron(x, w=w12, b=b12, f=f)\n",
    "    # output of the perceptron in the last layer\n",
    "    y = perceptron(np.array([h1, h2]), w=w2, b=b2, f=f)  # h1 AND NOT h2\n",
    "\n",
    "    return y"
   ]
  },
  {
   "cell_type": "code",
   "execution_count": null,
   "id": "6516515a",
   "metadata": {},
   "outputs": [],
   "source": [
    "def test_xor():\n",
    "    xs, ys = generate_xor_data()\n",
    "    for x, y in zip(xs, ys):\n",
    "        assert (\n",
    "            xor(x) == y\n",
    "        ), f\"xor function returned {xor(x)} for input {x}, but should be {y}\"\n",
    "        print(f\"XOR of {x} is {y}, your implementation returns {xor(x)}\")\n",
    "    print(\"\\nCongratulations! You have implemented the XOR function correctly.\")\n",
    "\n",
    "\n",
    "test_xor()"
   ]
  },
  {
   "cell_type": "markdown",
   "id": "235f0b3a",
   "metadata": {
    "cell_marker": "\"\"\"",
    "lines_to_next_cell": 0
   },
   "source": [
    "<div class=\"alert alert-block alert-success\">\n",
    "<h2> Checkpoint 2 </h2>\n",
    "\n",
    "There are many ways to implement an XOR in a two-layer perceptron. We will review some of them and how we got to them (trial and error or pen and paper?).\n",
    "    \n",
    "<br/>\n",
    "If you arrive here early, think about how to generalize the XOR function to an arbitrary number of inputs. For more than two inputs, the XOR returns True if the number of 1s in the inputs is odd, and False otherwise.\n",
    "\n",
    "Time: 30 working + 15 min discussion\n",
    "</div>"
   ]
  },
  {
   "cell_type": "markdown",
   "id": "46fc9608",
   "metadata": {
    "cell_marker": "\"\"\""
   },
   "source": [
    "## Part 2: \"Deep\" Neural Networks\n",
    "\n",
    "<div>\n",
    "    <img src=\"attachment:neural_network.png\" width=500/>\n",
    "</div>\n",
    "\n",
    "<div class=\"alert alert-block alert-info\">\n",
    "    <h2>Task 3</h2>\n",
    "\n",
    "Use PyTorch to Train a Simple Network\n",
    "</div>\n",
    "\n",
    "The previous task demonstrated that chosing the weights of a neural network by hand can be quite painful even for simple functions. This will certainly get out of hand once we have more complex networks with several layers and many neurons per layer. But more importantly, the reason why we want to use neural networks to approximate a function is that (in general) we do not know exactly what the function is. We only have data points that describe the function implicitly.\n",
    "\n",
    "In this task, we will design, train, and evaluate a neural network that can classify points of two different classes on a 2D plane, i.e., the input to our network are the coordinates of points in a plane.\n",
    "\n",
    "For that, we will create a training and a testing dataset. We will use stochastic gradient descent to train a network on the training dataset and evaluate its performance on the testing dataset.\n",
    "\n",
    "#### Data\n",
    "\n",
    "We create both training and testing dataset from the following function (in practice, we would not know this function but have only the data available):"
   ]
  },
  {
   "cell_type": "code",
   "execution_count": null,
   "id": "bcfcd048",
   "metadata": {},
   "outputs": [],
   "source": [
    "def generate_spiral_data(n_points, noise=1.0):\n",
    "    n = np.sqrt(np.random.rand(n_points, 1)) * 780 * (2 * np.pi) / 360\n",
    "    d1x = -np.cos(n) * n + np.random.rand(n_points, 1) * noise\n",
    "    d1y = np.sin(n) * n + np.random.rand(n_points, 1) * noise\n",
    "    return (\n",
    "        np.vstack((np.hstack((d1x, d1y)), np.hstack((-d1x, -d1y)))),\n",
    "        np.hstack((np.zeros(n_points), np.ones(n_points))),\n",
    "    )\n",
    "\n",
    "\n",
    "def plot_points(Xs, ys, titles):\n",
    "    num_subplots = len(Xs)\n",
    "    plt.subplots(1, num_subplots, figsize=(5 * num_subplots, 5))\n",
    "    for i, (X, y, title) in enumerate(zip(Xs, ys, titles)):\n",
    "        plt.subplot(1, num_subplots, i + 1)\n",
    "        plt.title(title)\n",
    "        plt.plot(X[y == 0, 0], X[y == 0, 1], \".\", label=\"Class 1\")\n",
    "        plt.plot(X[y == 1, 0], X[y == 1, 1], \".\", label=\"Class 2\")\n",
    "        plt.legend()\n",
    "    plt.show()\n",
    "\n",
    "\n",
    "X_train, y_train = generate_spiral_data(100)\n",
    "X_test, y_test = generate_spiral_data(1000)\n",
    "\n",
    "plot_points([X_train, X_test], [y_train, y_test], [\"Training Data\", \"Testing Data\"])"
   ]
  },
  {
   "cell_type": "markdown",
   "id": "90857f3f",
   "metadata": {
    "cell_marker": "\"\"\""
   },
   "source": [
    "We will start with a simple baseline model. But first, we will explicitly write the training loop (required by vanilla PyTorch), which you have gone through in the lecture. Comments in the code will help you identify the different steps involved."
   ]
  },
  {
   "cell_type": "code",
   "execution_count": null,
   "id": "1d2fa8f4",
   "metadata": {},
   "outputs": [],
   "source": [
    "import torch\n",
    "\n",
    "\n",
    "def batch_generator(X, y, batch_size, shuffle=True):\n",
    "    if shuffle:\n",
    "        # Shuffle the data at each epoch\n",
    "        indices = np.random.permutation(len(X))\n",
    "    else:\n",
    "        # Process the data in the order as it is\n",
    "        indices = np.arange(len(X))\n",
    "    for i in range(0, len(X), batch_size):\n",
    "        yield X[indices[i : i + batch_size]], y[indices[i : i + batch_size]]\n",
    "\n",
    "\n",
    "def run_epoch(model, optimizer, X_train, y_train, batch_size, loss_fn, device):\n",
    "    n_samples = len(X_train)\n",
    "    total_loss = 0\n",
    "\n",
    "    # Set the model to training mode, essential when using certain layers, such as BatchNorm or Dropout\n",
    "    model.train()\n",
    "    for X_b, y_b in batch_generator(X_train, y_train, batch_size):\n",
    "        # Convert the data to PyTorch tensors\n",
    "        X_b = torch.tensor(X_b, dtype=torch.float32, device=device)\n",
    "        y_b = torch.tensor(y_b, dtype=torch.float32, device=device)\n",
    "\n",
    "        # Reset the optimizer state\n",
    "        optimizer.zero_grad()\n",
    "\n",
    "        # Forward pass: pass the data through the model and retrieve the prediction\n",
    "        y_pred = model(X_b).squeeze()\n",
    "\n",
    "        # Compute the loss function with the prediction and the ground truth\n",
    "        loss = loss_fn(y_pred, y_b)\n",
    "\n",
    "        # Backward pass: compute the gradient of the loss w.r.t. the parameters\n",
    "        loss.backward()\n",
    "\n",
    "        # Update the model parameters\n",
    "        optimizer.step()\n",
    "\n",
    "        # Accumulate the loss (for monitoring purposes)\n",
    "        total_loss += loss.item()\n",
    "    return total_loss / n_samples"
   ]
  },
  {
   "cell_type": "markdown",
   "id": "5454b9d8",
   "metadata": {
    "cell_marker": "\"\"\""
   },
   "source": [
    "Let's now write the simple baseline model, consisting of one hidden layer with 12 neurons (or perceptrons). You will see that this baseline model performs pretty poorly. Read the following code snippets and try to understand the involved functions:"
   ]
  },
  {
   "cell_type": "code",
   "execution_count": null,
   "id": "34f721b9",
   "metadata": {},
   "outputs": [],
   "source": [
    "import torch.nn as nn\n",
    "from tqdm.auto import tqdm\n",
    "\n",
    "if torch.cuda.is_available():\n",
    "    device = torch.device(\"cuda\")\n",
    "else:\n",
    "    print(\"GPU not available. Will use CPU.\")\n",
    "    device = torch.device(\"cpu\")\n",
    "\n",
    "\n",
    "class BaselineModel(nn.Module):\n",
    "    def __init__(self):\n",
    "        super().__init__()\n",
    "        self.mlp = nn.Sequential(\n",
    "            nn.Linear(in_features=2, out_features=12, bias=True),\n",
    "            nn.Tanh(),\n",
    "            nn.Linear(in_features=12, out_features=1),\n",
    "            nn.Sigmoid(),\n",
    "        )\n",
    "\n",
    "    def forward(self, x):\n",
    "        return self.mlp(x)\n",
    "\n",
    "\n",
    "# Initialize the model, optimizer and set the loss function\n",
    "bad_model = BaselineModel()\n",
    "bad_model.to(device)\n",
    "optimizer = torch.optim.SGD(\n",
    "    bad_model.parameters(), lr=0.01\n",
    ")  # SGD - Stochastic Gradient Descent\n",
    "loss_fn = nn.MSELoss(reduction=\"sum\")  # MSELoss - Mean Squared Error Loss\n",
    "\n",
    "batch_size = 10\n",
    "num_epochs = 1500\n",
    "\n",
    "\n",
    "for epoch in (pbar := tqdm(range(num_epochs), total=num_epochs, desc=\"Training\")):\n",
    "    # Run an epoch over the training set\n",
    "    curr_loss = run_epoch(\n",
    "        bad_model, optimizer, X_train, y_train, batch_size, loss_fn, device\n",
    "    )\n",
    "\n",
    "    # Update the progress bar to display the training loss\n",
    "    pbar.set_postfix({\"training loss\": curr_loss})"
   ]
  },
  {
   "cell_type": "markdown",
   "id": "c7ee9efa",
   "metadata": {
    "cell_marker": "\"\"\""
   },
   "source": [
    "Now that we've trained the model, let's evaluate its performance on the testing dataset. The following code snippet will retrieve the predictions from the model, and will then plot them along with the test data:"
   ]
  },
  {
   "cell_type": "code",
   "execution_count": null,
   "id": "e4dd6d91",
   "metadata": {},
   "outputs": [],
   "source": [
    "def predict(model, X, y, batch_size, device):\n",
    "    predictions = np.empty((0,))\n",
    "    model.eval()  # set the model to evaluation mode, essential when using certain layers, such as BatchNorm or Dropout\n",
    "    with torch.inference_mode():\n",
    "        for X_b, y_b in batch_generator(X, y, batch_size, shuffle=False):\n",
    "            X_b = torch.tensor(X_b, dtype=torch.float32, device=device)\n",
    "            y_b = torch.tensor(y_b, dtype=torch.float32, device=device)\n",
    "            y_pred = model(X_b).squeeze().detach().cpu().numpy()\n",
    "            predictions = np.concatenate((predictions, y_pred), axis=0)\n",
    "    return np.round(predictions)\n",
    "\n",
    "\n",
    "def accuracy(y_pred, y_gt):\n",
    "    return np.sum(y_pred == y_gt) / len(y_gt)\n",
    "\n",
    "\n",
    "bad_predictions = predict(bad_model, X_test, y_test, batch_size, device)\n",
    "bad_accuracy = accuracy(bad_predictions, y_test)\n",
    "\n",
    "plot_points(\n",
    "    [X_test, X_test],\n",
    "    [y_test, bad_predictions],\n",
    "    [\"Testing data\", f\"Bad Model Classification ({bad_accuracy * 100:.2f}% correct)\"],\n",
    ")"
   ]
  },
  {
   "cell_type": "markdown",
   "id": "2929d322",
   "metadata": {
    "cell_marker": "\"\"\""
   },
   "source": [
    "<div class=\"alert alert-block alert-info\">\n",
    "    <b>Task 3.1</b>: Improve the Baseline Model\n",
    "</div>\n",
    "\n",
    "Now, try to find a more advanced architecture that is able to solve the classification problem. You can vary width (number of neurons per layer) and depth (number of layers) of the network. You can also play around with [different activation functions](https://pytorch.org/docs/stable/nn.html#non-linear-activations-weighted-sum-nonlinearity), [loss functions](https://pytorch.org/docs/stable/nn.html#loss-functions), and [optimizers](https://pytorch.org/docs/stable/optim.html)."
   ]
  },
  {
   "cell_type": "code",
   "execution_count": null,
   "id": "323a2e19",
   "metadata": {
    "tags": [
     "solution"
    ]
   },
   "outputs": [],
   "source": [
    "class GoodModel(nn.Module):\n",
    "    \"\"\"Solution\"\"\"\n",
    "\n",
    "    def __init__(self):\n",
    "        super().__init__()\n",
    "        self.seq = nn.Sequential(\n",
    "            nn.Linear(in_features=2, out_features=64, bias=True),\n",
    "            nn.ReLU(),\n",
    "            nn.Linear(in_features=64, out_features=64, bias=True),\n",
    "            nn.ReLU(),\n",
    "            nn.Linear(in_features=64, out_features=64, bias=True),\n",
    "            nn.ReLU(),\n",
    "            nn.Linear(in_features=64, out_features=1, bias=True),\n",
    "            nn.Sigmoid(),\n",
    "        )\n",
    "\n",
    "    def forward(self, x):\n",
    "        return self.seq(x)\n",
    "\n",
    "\n",
    "# Instantiate the model\n",
    "good_model = GoodModel()\n",
    "good_model.to(device)\n",
    "\n",
    "# Set the optimizer and the loss function\n",
    "optimizer = torch.optim.AdamW(good_model.parameters(), lr=0.001)  # AdamW optimizer\n",
    "loss_fn = nn.BCELoss(reduction=\"sum\")  # Binary Cross Entropy Loss\n",
    "\n",
    "\n",
    "batch_size = 10\n",
    "num_epochs = 1500\n",
    "\n",
    "\n",
    "good_model.train()\n",
    "for epoch in (pbar := tqdm(range(num_epochs), total=num_epochs, desc=\"Training\")):\n",
    "    # Run an epoch over the training set\n",
    "    curr_loss = run_epoch(\n",
    "        good_model, optimizer, X_train, y_train, batch_size, loss_fn, device\n",
    "    )\n",
    "\n",
    "    # Update the progress bar to display the training loss\n",
    "    pbar.set_postfix({\"training loss\": curr_loss})\n",
    "\n",
    "good_model.eval()\n",
    "good_predictions = predict(good_model, X_test, y_test, batch_size, device)\n",
    "good_accuracy = accuracy(good_predictions, y_test)\n",
    "\n",
    "plot_points(\n",
    "    [X_test, X_test],\n",
    "    [y_test, good_predictions],\n",
    "    [\"Testing data\", f\"Good Model Classification ({good_accuracy * 100:.2f}% correct)\"],\n",
    ")"
   ]
  },
  {
   "cell_type": "markdown",
   "id": "ccd8c806",
   "metadata": {
    "cell_marker": "\"\"\""
   },
   "source": [
    "<div class=\"alert alert-block alert-info\">\n",
    "    <b>Task 3.2</b>: Visualize Your Model\n",
    "</div>\n",
    "\n",
    "The next cell visualizes the output of your model for all 2D inputs with coordinates between 0 and 1, similar to how we plotted the output of the perceptron in **Task 1**. Change the code below to show the domain -15 to 15 for both input dimensions and compare the outputs of the `bad_model` model with yours. See also how the model performs outside the intervals it was trained on by increasing the domain even further.\n",
    "\n",
    "Looking at the classifier on an extended domain, what observations can you make?"
   ]
  },
  {
   "cell_type": "code",
   "execution_count": null,
   "id": "3214f60e",
   "metadata": {
    "tags": [
     "solution"
    ]
   },
   "outputs": [],
   "source": [
    "def plot_classifiers(classifier_1, classifier_2):\n",
    "\n",
    "    plt.subplots(1, 2, figsize=(10, 5))\n",
    "\n",
    "    num_samples = 200\n",
    "\n",
    "    # SOLUTION\n",
    "    domain_x1 = (-100.0, 100.0)\n",
    "    domain_x2 = (-100.0, 100.0)\n",
    "\n",
    "    domain = np.meshgrid(\n",
    "        np.linspace(*domain_x1, num_samples), np.linspace(*domain_x2, num_samples)\n",
    "    )\n",
    "    xs = np.array([domain[0].flatten(), domain[1].flatten()]).T\n",
    "\n",
    "    values_1 = predict(classifier_1, xs, np.zeros(xs.shape[0]), batch_size, device)\n",
    "    values_2 = predict(classifier_2, xs, np.zeros(xs.shape[0]), batch_size, device)\n",
    "\n",
    "    plt.subplot(1, 2, 1)\n",
    "    plt.title(\"Bad Model\")\n",
    "    plt.contourf(domain[0], domain[1], values_1.reshape(num_samples, num_samples))\n",
    "\n",
    "    plt.subplot(1, 2, 2)\n",
    "    plt.title(\"Good Model\")\n",
    "    plt.contourf(domain[0], domain[1], values_2.reshape(num_samples, num_samples))\n",
    "\n",
    "    plt.show()\n",
    "\n",
    "\n",
    "plot_classifiers(bad_model, good_model)"
   ]
  },
  {
   "cell_type": "markdown",
   "id": "89bff2fe",
   "metadata": {
    "cell_marker": "\"\"\""
   },
   "source": [
    "<div class=\"alert alert-block alert-success\">\n",
    "<h2> Checkpoint 3</h2>\n",
    "\n",
    "Let us know in the exercise channel when you got here and what accuracy your model achieved. We will compare different solutions and discuss why some of them are better than others. We will also discuss the generalization behaviour of the classifier outside of the domain it was trained on.\n",
    "\n",
    "Time: 60 working + 15 discussion\n",
    "</div>"
   ]
  },
  {
   "cell_type": "markdown",
   "id": "efcc00f5",
   "metadata": {
    "cell_marker": "\"\"\"",
    "lines_to_next_cell": 2
   },
   "source": [
    "<div class=\"alert alert-block alert-info\">\n",
    "    <h2>Task 4</h2>\n",
    "\n",
    "Classify Hand-Written Digits\n",
    "</div>\n",
    "\n",
    "In this task, we will classify data points of higher dimensions: Each data point is now an image of size 28 by 28 pixels depicting a hand-written digit from the famous MNIST dataset.\n",
    "\n",
    "Instead of feeding the image as one long vector into a fully connected network (as in the previous task), we will take advantage of the spatial information in images and use a convolutional neural network. As a reminder, a convolutional neural network differs from a fully connected one in that not each pair of nodes is connected, and weights are shared between nodes in one layer:\n",
    "\n",
    "<div>\n",
    "<img src=\"attachment:convolutional_network.png\" width=\"300\"/>\n",
    "</div>\n",
    "\n",
    "However, the output of our network will be a 10-dimensional vector, indicating the probabilities for the input to be one of ten classes (corresponding to the digits 0 to 9). For that, we will use fully connected layers at the end of our network, once the dimensionality of a feature map is small enough to capture high-level information.\n",
    "\n",
    "In principle, we could just use convolutional layers to reduce the size of each feature map by 2 until one feature map is small enough to allow using a fully connected layer. However, it is good practice to have a convolutional layer followed by a so-called downsampling layer, which effectively reduces the size of the feature map by the downsampling factor."
   ]
  },
  {
   "cell_type": "markdown",
   "id": "01443144",
   "metadata": {
    "cell_marker": "\"\"\""
   },
   "source": [
    "### Data\n",
    "The following snippet will download the MNIST dataset using the `torchvision` library. The `transforms=transforms.ToTensor()` parameter will ensure that the data format is appropriate for using it directly (adding a channel dimension, rescaling values between 0 and 1)."
   ]
  },
  {
   "cell_type": "code",
   "execution_count": null,
   "id": "487a2365",
   "metadata": {},
   "outputs": [],
   "source": [
    "from torchvision.datasets import MNIST\n",
    "from torchvision import transforms\n",
    "\n",
    "all_train_ds = MNIST(\n",
    "    root=\".mnist\", train=True, download=True, transform=transforms.ToTensor()\n",
    ")\n",
    "test_ds = MNIST(\n",
    "    root=\".mnist\", train=False, download=True, transform=transforms.ToTensor()\n",
    ")"
   ]
  },
  {
   "cell_type": "markdown",
   "id": "61e93e1f",
   "metadata": {
    "cell_marker": "\"\"\""
   },
   "source": [
    "The dataset is already split into training and test data, but we will further split the training data into training and validation, and show a few samples in the next cell."
   ]
  },
  {
   "cell_type": "code",
   "execution_count": null,
   "id": "9cc64bcd",
   "metadata": {},
   "outputs": [],
   "source": [
    "num_all_train_samples = len(all_train_ds)\n",
    "train_ds, val_ds = torch.utils.data.random_split(\n",
    "    all_train_ds, [int(0.8 * num_all_train_samples), int(0.2 * num_all_train_samples)]\n",
    ")\n",
    "\n",
    "print(f\"Training data has {len(train_ds)} samples\")\n",
    "print(f\"Validation data has {len(val_ds)} samples\")\n",
    "print(f\"Testing data has {len(test_ds)} samples\")\n",
    "\n",
    "\n",
    "def show_samples(dataset, title, predictions=None, num_samples=10):\n",
    "    fig, axs = plt.subplots(1, num_samples, figsize=(3 * num_samples, 3))\n",
    "    fig.suptitle(title, size=40, y=1.2)\n",
    "    if predictions is not None:\n",
    "        assert len(predictions) == len(\n",
    "            dataset\n",
    "        ), \"Number of given predictions must match number of samples\"\n",
    "    for i in range(num_samples):\n",
    "        img, label = dataset[i]\n",
    "        if predictions is not None:\n",
    "            label = int(predictions[i])\n",
    "        img = img.squeeze().numpy()\n",
    "        axs[i].imshow(img, cmap=\"gray\")\n",
    "        (\n",
    "            axs[i].set_title(f\"Label: {label}\")\n",
    "            if predictions is None\n",
    "            else axs[i].set_title(f\"Prediction: {label}\")\n",
    "        )\n",
    "        axs[i].axis(\"off\")\n",
    "    plt.show()\n",
    "\n",
    "\n",
    "show_samples(train_ds, \"Training Data\")\n",
    "show_samples(val_ds, \"Validation Data\")\n",
    "show_samples(test_ds, \"Testing Data\")"
   ]
  },
  {
   "cell_type": "markdown",
   "id": "91e3b256",
   "metadata": {
    "cell_marker": "\"\"\"",
    "lines_to_next_cell": 0
   },
   "source": [
    "Let us make sure that the data is in the right format for using with `torch` modules. Convolutional layers expect an input shape of (B, C, H, W) (batch, channel, height and width). The batch dimension represents different samples in a batch. Therefore, each sample (image) in our dataset should be (1,28,28), as the data is single-channel. We will also check the labels to make sure they are integers between 0 and 9.\n",
    "\n",
    "While manually checking a couple of images is fine (and recommended), it is also good to automatize this process and check the data format in general (as long as the size allows so!)."
   ]
  },
  {
   "cell_type": "code",
   "execution_count": null,
   "id": "eff206f4",
   "metadata": {},
   "outputs": [],
   "source": [
    "print(\"Training image shape:\", train_ds[0][0].shape)\n",
    "print(\"Training image label:\", train_ds[0][1])\n",
    "\n",
    "print(\"Validation image shape:\", val_ds[0][0].shape)\n",
    "print(\"Validation image label:\", val_ds[0][1])\n",
    "\n",
    "print(\"Testing image shape:\", test_ds[0][0].shape)\n",
    "print(\"Testing image label:\", test_ds[0][1])\n",
    "\n",
    "assert all(\n",
    "    img.shape == (1, 28, 28) and isinstance(label, int) and 0 <= label <= 9\n",
    "    for img, label in train_ds\n",
    "), \"Unexpected shape, type or label for training data\"\n",
    "\n",
    "assert all(\n",
    "    img.shape == (1, 28, 28) and isinstance(label, int) and 0 <= label <= 9\n",
    "    for img, label in val_ds\n",
    "), \"Unexpected shape, type or label for validation data\"\n",
    "\n",
    "assert all(\n",
    "    img.shape == (1, 28, 28) and isinstance(label, int) and 0 <= label <= 9\n",
    "    for img, label in test_ds\n",
    "), \"Unexpected shape, type or label for test data\"\n",
    "print(\"\\nData format is correct.\")"
   ]
  },
  {
   "cell_type": "markdown",
   "id": "097d681b",
   "metadata": {
    "cell_marker": "\"\"\""
   },
   "source": [
    "<div class=\"alert alert-block alert-info\">\n",
    "    <b>Task 4.1</b>: Implement a Convolutional Neural Network\n",
    "</div>\n",
    "\n",
    "Create a CNN using `torch` layers with the following specifications:\n",
    "* one convolution, size 3x3, 32 output feature maps, padding=1, followed by a ReLU activation function\n",
    "* one downsampling layer, size 2x2, via max-pooling\n",
    "* one convolution, size 3x3, 32 output feature maps, padding=1, followed by a ReLU activation function\n",
    "* one downsampling layer, size 2x2, via max-pooling\n",
    "* one fully connected (linear) layer with 64 units (the previous feature maps need to be flattened for that), followed by a ReLU activation function\n",
    "* one fully connected (linear) layer with 10 units, **without any activation function**. This will be the logits of the network.\n",
    "\n",
    "The fact that we do not add any activation function in the output is because certain loss functions in PyTorch, such as `nn.CrossEntropyLoss`, already apply the activation function in a more efficient manner when computing the loss, offering speedup and more numerical stability compared to explicitly adding it. Therefore, it is good practice not to add an activation function in the output layer when using such loss functions during training. \n",
    "\n",
    "Each layer above has a corresponding `torch` implementation (e.g., a convolutional layer is implemented by [nn.Conv2D](https://pytorch.org/docs/stable/generated/torch.nn.Conv2d.html)), and the linear layer by [nn.Linear](https://pytorch.org/docs/stable/generated/torch.nn.Linear.html) (which you have used before in Task 3). You can find the other necessary modules by browsing the [torch.nn documentation](https://pytorch.org/docs/stable/nn.html)!\n",
    "\n",
    "\n",
    "<div class=\"alert alert-block alert-warning\">\n",
    "    <b>Question:</b>\n",
    "    PyTorch requires explicitly giving the number of input features/channels to each Linear/Conv2D layer. Therefore, you need to know the number of input features/channels for those layers.\n",
    "    What is the number of input features/channels for each layer in the CNN described above? Take particular care with the number of input features in the first fully connected layer. You can assume the convolutional layers will preserve the input size (thanks to the `padding=1`). \n",
    "</div>"
   ]
  },
  {
   "cell_type": "code",
   "execution_count": null,
   "id": "14608cd9",
   "metadata": {
    "tags": [
     "solution"
    ]
   },
   "outputs": [],
   "source": [
    "class CNNModel(nn.Module):\n",
    "    def __init__(self):\n",
    "        super().__init__()\n",
    "\n",
    "        # Define the layers of the model\n",
    "        self.conv = nn.Sequential(\n",
    "            nn.Conv2d(in_channels=1, out_channels=32, kernel_size=(3, 3), padding=1),\n",
    "            nn.ReLU(),\n",
    "            nn.MaxPool2d(kernel_size=(2, 2)),\n",
    "            nn.Conv2d(in_channels=32, out_channels=32, kernel_size=(3, 3), padding=1),\n",
    "            nn.ReLU(),\n",
    "            nn.MaxPool2d(kernel_size=(2, 2)),\n",
    "            nn.Flatten(),\n",
    "        )\n",
    "        self.dense = nn.Sequential(\n",
    "            nn.Linear(in_features=32 * 7 * 7, out_features=64),\n",
    "            nn.ReLU(),\n",
    "            nn.Linear(in_features=64, out_features=10),\n",
    "        )\n",
    "\n",
    "    def forward(self, x):\n",
    "        y = self.conv(x)\n",
    "        y = self.dense(y)\n",
    "        return y\n",
    "\n",
    "\n",
    "cnn_model = CNNModel()\n",
    "\n",
    "try:\n",
    "    cnn_model(torch.zeros(1, 1, 28, 28))\n",
    "except RuntimeError as e:\n",
    "    if str(e).startswith(\"mat1 and mat2 shapes cannot be multiplied\"):\n",
    "        print(\n",
    "            f\"The model does not work with the input shape. Please double check the number of features/channels for the fully connected layers. The error is:\\n{e}\"\n",
    "        )\n",
    "    else:\n",
    "        raise e\n",
    "print(\n",
    "    \"Trainable params:\",\n",
    "    sum(p.numel() for p in cnn_model.parameters() if p.requires_grad),\n",
    ")\n",
    "del cnn_model  # clean up the temporary model"
   ]
  },
  {
   "cell_type": "markdown",
   "id": "67212428",
   "metadata": {
    "cell_marker": "\"\"\""
   },
   "source": [
    "The last line in the previous cell prints the number of trainable parameters of your model. This number should be 110634.\n",
    "\n",
    "<div class=\"alert alert-block alert-info\">\n",
    "    <b>Task 4.2</b>: Train the Network\n",
    "</div>\n",
    "\n",
    "As we did for Task 3, we will define some auxiliary functions for the training procedure which include, as before, the training loop (which we rewrite to add the computation of a metric to monitor during training), but also a validation procedure which will be used to evaluate the model on the validation dataset on every epoch.\n",
    "\n",
    "Moreover, these procedures will use the very commonly used `DataLoader` class to deal with the data in batches. This PyTorch module allows an easy interface to iterate over the data in batches and comes with many benefits, such as the potential to load the data quicker with parallel processes."
   ]
  },
  {
   "cell_type": "code",
   "execution_count": null,
   "id": "ba100817",
   "metadata": {},
   "outputs": [],
   "source": [
    "def run_epoch(model, optimizer, train_dataloader, loss_fn, device):\n",
    "    n_samples = len(train_dataloader.dataset)\n",
    "    total_loss = 0\n",
    "    total_correct = 0\n",
    "\n",
    "    # Set the model to training mode\n",
    "    model.train()\n",
    "    for X_b, y_b in train_dataloader:\n",
    "        # Convert the data to PyTorch tensors\n",
    "        X_b = X_b.to(device)\n",
    "        y_b = y_b.long().to(\n",
    "            device\n",
    "        )  # Ensure the labels are of type long (int) as required by the loss function nn.CrossEntropyLoss\n",
    "\n",
    "        # Reset the optimizer state\n",
    "        optimizer.zero_grad()\n",
    "\n",
    "        # Forward pass: pass the data through the model and retrieve the prediction\n",
    "        y_pred = model(X_b).squeeze()\n",
    "\n",
    "        # Compute the loss function with the prediction and the ground truth\n",
    "        loss = loss_fn(y_pred, y_b)\n",
    "\n",
    "        # Backward pass: compute the gradient of the loss w.r.t. the parameters\n",
    "        loss.backward()\n",
    "\n",
    "        # Update the model parameters\n",
    "        optimizer.step()\n",
    "\n",
    "        # Accumulate the loss (for monitoring purposes)\n",
    "        total_loss += loss.item()\n",
    "\n",
    "        # Compute the number of correct predictions\n",
    "        total_correct += (y_pred.argmax(dim=1) == y_b).sum().item()\n",
    "    train_loss = total_loss / n_samples\n",
    "    train_accuracy = total_correct / n_samples\n",
    "    return train_loss, train_accuracy\n",
    "\n",
    "\n",
    "def validate(model, val_dataloader, loss_fn, device):\n",
    "    total_loss = 0\n",
    "    total_correct = 0\n",
    "    n_samples = len(val_dataloader.dataset)\n",
    "\n",
    "    model.eval()\n",
    "    with torch.inference_mode():\n",
    "        for X_b, y_b in val_dataloader:\n",
    "            X_b = X_b.to(device)\n",
    "            y_b = y_b.long().to(device)\n",
    "            y_pred = model(X_b)\n",
    "            total_loss += loss_fn(y_pred, y_b).item()\n",
    "            total_correct += (y_pred.argmax(dim=1) == y_b).sum().item()\n",
    "    val_loss = total_loss / n_samples\n",
    "    val_accuracy = total_correct / n_samples\n",
    "    return val_loss, val_accuracy"
   ]
  },
  {
   "cell_type": "markdown",
   "id": "472ff2cc",
   "metadata": {
    "cell_marker": "\"\"\"",
    "lines_to_next_cell": 0
   },
   "source": [
    "We are now ready to train the network!\n",
    "\n",
    "Instantiate and fit your `cnn_model` similar to how we compiled the spiral classifier above, but:\n",
    "* use `nn.CrossEntropyLoss` as the loss, with `reduction=\"sum\"`\n",
    "* use `torch.optim.AdamW` as the optimizer, with learning rate `lr=0.001`\n",
    "* set a batch size of 128 samples\n",
    "* train for 10 epochs"
   ]
  },
  {
   "cell_type": "code",
   "execution_count": null,
   "id": "1913fcc1",
   "metadata": {
    "tags": [
     "solution"
    ]
   },
   "outputs": [],
   "source": [
    "cnn_model = CNNModel()\n",
    "cnn_model.to(device)\n",
    "\n",
    "\n",
    "# TASK: set the optimizer, loss function, batch size and number of epochs\n",
    "optimizer = None\n",
    "loss_fn = None\n",
    "batch_size = None\n",
    "num_epochs = None\n",
    "\n",
    "assert optimizer is not None, \"Please set the optimizer!\"\n",
    "assert loss_fn is not None, \"Please set the loss function!\"\n",
    "assert batch_size is not None, \"Please set the batch size!\"\n",
    "assert num_epochs is not None, \"Please set the number of epochs!\"\n",
    "\n",
    "train_dataloader = torch.utils.data.DataLoader(\n",
    "    train_ds, batch_size=batch_size, shuffle=True, pin_memory=True\n",
    ")\n",
    "val_dataloader = torch.utils.data.DataLoader(\n",
    "    val_ds, batch_size=batch_size, shuffle=False, pin_memory=True\n",
    ")\n",
    "\n",
    "for epoch in (pbar := tqdm(range(num_epochs), desc=\"Training\", total=num_epochs)):\n",
    "    train_loss, train_acc = run_epoch(\n",
    "        cnn_model, optimizer, train_dataloader, loss_fn, device\n",
    "    )\n",
    "    val_loss, val_acc = validate(cnn_model, val_dataloader, loss_fn, device)\n",
    "    pbar.set_postfix(\n",
    "        {\n",
    "            \"train_loss\": train_loss,\n",
    "            \"val_loss\": val_loss,\n",
    "            \"train_acc\": train_acc,\n",
    "            \"val_acc\": val_acc,\n",
    "        }\n",
    "    )"
   ]
  },
  {
   "cell_type": "code",
   "execution_count": null,
   "id": "08ad8b86",
   "metadata": {
    "tags": [
     "solution"
    ]
   },
   "outputs": [],
   "source": [
    "cnn_model = CNNModel()\n",
    "cnn_model.to(device)\n",
    "\n",
    "\n",
    "optimizer = torch.optim.AdamW(cnn_model.parameters(), lr=0.001)\n",
    "loss_fn = nn.CrossEntropyLoss(reduction=\"sum\")\n",
    "\n",
    "batch_size = 128\n",
    "num_epochs = 10\n",
    "\n",
    "train_dataloader = torch.utils.data.DataLoader(\n",
    "    train_ds, batch_size=batch_size, shuffle=True, pin_memory=True\n",
    ")\n",
    "val_dataloader = torch.utils.data.DataLoader(\n",
    "    val_ds, batch_size=batch_size, shuffle=False, pin_memory=True\n",
    ")\n",
    "\n",
    "for epoch in (pbar := tqdm(range(num_epochs), desc=\"Training\", total=num_epochs)):\n",
    "    train_loss, train_acc = run_epoch(\n",
    "        cnn_model, optimizer, train_dataloader, loss_fn, device\n",
    "    )\n",
    "    val_loss, val_acc = validate(cnn_model, val_dataloader, loss_fn, device)\n",
    "    pbar.set_postfix(\n",
    "        {\n",
    "            \"train_loss\": train_loss,\n",
    "            \"val_loss\": val_loss,\n",
    "            \"train_acc\": train_acc,\n",
    "            \"val_acc\": val_acc,\n",
    "        }\n",
    "    )"
   ]
  },
  {
   "cell_type": "markdown",
   "id": "85e456a4",
   "metadata": {
    "cell_marker": "\"\"\""
   },
   "source": [
    "Now that we trained our model, let's evaluate its performance on the test dataset."
   ]
  },
  {
   "cell_type": "code",
   "execution_count": null,
   "id": "0d550b00",
   "metadata": {},
   "outputs": [],
   "source": [
    "def predict(model, test_dataloader, device):\n",
    "    predictions = np.empty((0,))\n",
    "    model.eval()\n",
    "    with torch.inference_mode():\n",
    "        for X_b, y_b in tqdm(\n",
    "            test_dataloader, desc=\"Predicting\", total=len(test_dataloader)\n",
    "        ):\n",
    "            X_b = X_b.to(device)\n",
    "            y_b = y_b.long().to(device)\n",
    "            y_pred = model(X_b).argmax(axis=1).cpu().numpy()\n",
    "            predictions = np.concatenate((predictions, y_pred), axis=0)\n",
    "    return predictions\n",
    "\n",
    "\n",
    "y_test_gt = np.array([y for _, y in test_ds])\n",
    "\n",
    "test_dataloader = torch.utils.data.DataLoader(\n",
    "    test_ds, batch_size=batch_size, shuffle=False, pin_memory=True\n",
    ")\n",
    "y_test_predicted = predict(cnn_model, test_dataloader, device)\n",
    "\n",
    "test_acc = accuracy(y_test_predicted, y_test_gt)\n",
    "print(\"Testing accuracy = \", test_acc)\n",
    "show_samples(test_ds, \"Testing Data\", predictions=y_test_predicted, num_samples=10)"
   ]
  },
  {
   "cell_type": "markdown",
   "id": "93465723",
   "metadata": {
    "cell_marker": "\"\"\""
   },
   "source": [
    "<div class=\"alert alert-block alert-success\">\n",
    "<h2> Checkpoint 4</h2>\n",
    "\n",
    "After 10 epochs, your model should achieve a training, validation, and test accuracy of more than 95%. We will use this checkpoint to discuss why we use training, validation, and testing datasets in practice.\n",
    "\n",
    "time: 65 working + 20 discussion\n",
    "</div>"
   ]
  }
 ],
 "metadata": {
  "jupytext": {
   "cell_metadata_filter": "all",
   "main_language": "python"
  }
 },
 "nbformat": 4,
 "nbformat_minor": 5
}
